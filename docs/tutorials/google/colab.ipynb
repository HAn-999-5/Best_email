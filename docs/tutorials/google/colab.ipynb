{
  "cells": [
    {
      "cell_type": "markdown",
      "source": [
        "**Problem 1**\n",
        "\n",
        "Take any vector\n",
        "$\\vec{v} \\in \\mathcal{w}$. Since\n",
        "$\\mathcal{w}$\n",
        "is a subspace, it must be closed under scalar multiplication.\n",
        "\n",
        "Multiply $\\vec{v}$ by 0:\n",
        "\n",
        "0⋅$\\vec{v}$ = $\\vec{0}$\n",
        "\n",
        "By closure under scalar multiplication,\n",
        "$\\vec{0} \\in \\mathcal{w}$\n"
      ],
      "metadata": {
        "id": "eh5bkrPSNtl-"
      }
    },
    {
      "cell_type": "markdown",
      "source": [
        "**Problem 2**\n",
        "\n",
        "⟨$\\vec{u}$, $\\vec{v}$⟩ = 0\n",
        "\n",
        "residual of $\\vec{u}$ projected to $\\vec{u}$ = 0\n",
        "\n",
        "This is true if and only if $\\vec{u}$ is orthogonal to $\\vec{v}$, and hence its projection along $\\vec{v}$ is zero. Meaning $\\vec{u}$ lies entirely in the orthogonal complement of $\\vec{v}$."
      ],
      "metadata": {
        "id": "Q06sCbedchTp"
      }
    },
    {
      "cell_type": "markdown",
      "source": [
        "**Problem 3**\n",
        "\n",
        "Since the basis of vectors span $\\mathcal{w}$, any vector $\\vec{v} \\in \\mathcal{w}$ can be written as a linear combination of the basis vectors.\n",
        "\n",
        "$\\vec{v}$ = $\\mathcal{a_0}$$\\mathcal{u_0}$ + $\\mathcal{a_1}$$\\mathcal{u_1}$ + ... + $\\mathcal{a_r-_1}$$\\mathcal{u_r-_1}$"
      ],
      "metadata": {
        "id": "RajreF4KzTSL"
      }
    },
    {
      "cell_type": "markdown",
      "source": [],
      "metadata": {
        "id": "n2RSiqAHnXzr"
      }
    }
  ],
  "metadata": {
    "colab": {
      "name": "colab.ipynb",
      "toc_visible": true,
      "provenance": []
    },
    "kernelspec": {
      "display_name": "Python 3",
      "name": "python3"
    }
  },
  "nbformat": 4,
  "nbformat_minor": 0
}